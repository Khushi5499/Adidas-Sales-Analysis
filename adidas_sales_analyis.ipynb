{
 "cells": [
  {
   "cell_type": "code",
   "execution_count": 1,
   "id": "3e75e1c5-ef1e-4ebf-88cc-1690fb3c6a87",
   "metadata": {},
   "outputs": [],
   "source": [
    "import pandas as pd"
   ]
  },
  {
   "cell_type": "code",
   "execution_count": 7,
   "id": "755ca507-1516-4185-9c29-555cba7bbe91",
   "metadata": {},
   "outputs": [],
   "source": [
    "#1 Load data and explore\n",
    "df = pd.read_csv(\"adidas.csv\")"
   ]
  },
  {
   "cell_type": "code",
   "execution_count": 12,
   "id": "8e5fad6f-fa4e-471a-87e6-5a771046f78d",
   "metadata": {},
   "outputs": [
    {
     "name": "stdout",
     "output_type": "stream",
     "text": [
      "      Retailer  Retailer ID Invoice Date     Region     State      City  \\\n",
      "0  Foot Locker      1185732   01-01-2020  Northeast  New York  New York   \n",
      "1  Foot Locker      1185732   02-01-2020  Northeast  New York  New York   \n",
      "2  Foot Locker      1185732   03-01-2020  Northeast  New York  New York   \n",
      "3  Foot Locker      1185732   04-01-2020  Northeast  New York  New York   \n",
      "4  Foot Locker      1185732   05-01-2020  Northeast  New York  New York   \n",
      "\n",
      "                     Product Price per Unit Units Sold Total Sales  \\\n",
      "0      Men's Street Footwear        $50.00       1,200  $6,00,000    \n",
      "1    Men's Athletic Footwear        $50.00       1,000  $5,00,000    \n",
      "2    Women's Street Footwear        $40.00       1,000  $4,00,000    \n",
      "3  Women's Athletic Footwear        $45.00         850  $3,82,500    \n",
      "4              Men's Apparel        $60.00         900  $5,40,000    \n",
      "\n",
      "  Operating Profit Operating Margin Sales Method  \n",
      "0       $3,00,000               50%     In-store  \n",
      "1       $1,50,000               30%     In-store  \n",
      "2       $1,40,000               35%     In-store  \n",
      "3       $1,33,875               35%     In-store  \n",
      "4       $1,62,000               30%     In-store  \n"
     ]
    }
   ],
   "source": [
    "# Display first 5 rows\n",
    "print(df.head())"
   ]
  },
  {
   "cell_type": "code",
   "execution_count": 8,
   "id": "c042b318-7af4-47a8-8cec-73492c274a01",
   "metadata": {},
   "outputs": [
    {
     "name": "stdout",
     "output_type": "stream",
     "text": [
      "Retailer            0\n",
      "Retailer ID         0\n",
      "Invoice Date        0\n",
      "Region              0\n",
      "State               0\n",
      "City                0\n",
      "Product             0\n",
      "Price per Unit      0\n",
      "Units Sold          0\n",
      "Total Sales         0\n",
      "Operating Profit    0\n",
      "Operating Margin    0\n",
      "Sales Method        0\n",
      "dtype: int64\n"
     ]
    }
   ],
   "source": []
  },
  {
   "cell_type": "code",
   "execution_count": 9,
   "id": "07f694a4-82ad-4980-8acc-9f7617118c31",
   "metadata": {},
   "outputs": [
    {
     "name": "stdout",
     "output_type": "stream",
     "text": [
      "        Retailer ID\n",
      "count  9.648000e+03\n",
      "mean   1.173850e+06\n",
      "std    2.636038e+04\n",
      "min    1.128299e+06\n",
      "25%    1.185732e+06\n",
      "50%    1.185732e+06\n",
      "75%    1.185732e+06\n",
      "max    1.197831e+06\n"
     ]
    }
   ],
   "source": [
    "# Summary statistics\n",
    "print(df.describe())"
   ]
  },
  {
   "cell_type": "code",
   "execution_count": null,
   "id": "eef6528c-5a97-4160-a0e8-3daf152eebd1",
   "metadata": {},
   "outputs": [],
   "source": [
    "# Find the Top 5 States Where \"Men's Athletic Footwear\" Sells the Most"
   ]
  },
  {
   "cell_type": "code",
   "execution_count": 16,
   "id": "8e1dada2-fe43-4ead-9bd1-b75ea7c4080a",
   "metadata": {},
   "outputs": [
    {
     "name": "stdout",
     "output_type": "stream",
     "text": [
      "State\n",
      "Texas             8508759009259509509258508009009507756506757007...\n",
      "Florida           7507507257758259009008508258008752504003504257...\n",
      "California        7257006757508258759259258758759757006506506006...\n",
      "South Carolina    7006757508009009008258007508757256252101821882...\n",
      "Idaho             6256507257507757506255756757754253751691951961...\n",
      "Name: Units Sold, dtype: object\n"
     ]
    }
   ],
   "source": [
    "top_states = df[df[\"Product\"] == \"Men's Athletic Footwear\"] \\\n",
    "             .groupby(\"State\")[\"Units Sold\"] \\\n",
    "             .sum() \\\n",
    "             .sort_values(ascending=False) \\\n",
    "             .head(5)\n",
    "\n",
    "print(top_states)\n"
   ]
  },
  {
   "cell_type": "code",
   "execution_count": null,
   "id": "b19851ba-05d1-4424-bbc1-9ceb9083a8a8",
   "metadata": {},
   "outputs": [],
   "source": [
    "#How many unique products are sold?"
   ]
  },
  {
   "cell_type": "code",
   "execution_count": 17,
   "id": "490a400b-ab35-42dd-960a-b73bfb6ca505",
   "metadata": {},
   "outputs": [
    {
     "name": "stdout",
     "output_type": "stream",
     "text": [
      "Total Unique Products: 6\n"
     ]
    }
   ],
   "source": [
    "unique_products = df[\"Product\"].nunique()\n",
    "print(\"Total Unique Products:\", unique_products)\n"
   ]
  },
  {
   "cell_type": "code",
   "execution_count": null,
   "id": "92c1b478-cff6-469a-aa8a-bfdf6cac9d50",
   "metadata": {},
   "outputs": [],
   "source": [
    "#Which region has the highest number of sales?"
   ]
  },
  {
   "cell_type": "code",
   "execution_count": 18,
   "id": "7f11d748-91dd-40ce-958a-70e5bec19a66",
   "metadata": {},
   "outputs": [
    {
     "name": "stdout",
     "output_type": "stream",
     "text": [
      "Region with Highest Sales: Midwest\n"
     ]
    }
   ],
   "source": [
    "top_region = df.groupby(\"Region\")[\"Total Sales\"].sum().idxmax()\n",
    "print(\"Region with Highest Sales:\", top_region)\n"
   ]
  },
  {
   "cell_type": "code",
   "execution_count": null,
   "id": "bbd1aca9-f222-444e-b760-ecf52afce9ed",
   "metadata": {},
   "outputs": [],
   "source": [
    "#What is the total revenue generated by online vs offline sales?"
   ]
  },
  {
   "cell_type": "code",
   "execution_count": 19,
   "id": "2f33966c-58ae-45e2-acb6-2110ca3e7e51",
   "metadata": {},
   "outputs": [
    {
     "name": "stdout",
     "output_type": "stream",
     "text": [
      "Sales Method\n",
      "In-store    $6,00,000 $5,00,000 $4,00,000 $3,82,500 $5,40,...\n",
      "Online      $3,73,750 $4,95,000 $4,90,000 $5,95,000 $4,88,...\n",
      "Outlet      $4,50,000 $3,80,000 $3,71,250 $5,40,000 $5,00,...\n",
      "Name: Total Sales, dtype: object\n"
     ]
    }
   ],
   "source": [
    "sales_method_revenue = df.groupby(\"Sales Method\")[\"Total Sales\"].sum()\n",
    "print(sales_method_revenue)\n"
   ]
  },
  {
   "cell_type": "code",
   "execution_count": null,
   "id": "b70dc79a-94e7-4c64-ba69-901815946908",
   "metadata": {},
   "outputs": [],
   "source": [
    "#Sales & Revenue Analysis: Find the top 5 most sold products."
   ]
  },
  {
   "cell_type": "code",
   "execution_count": 20,
   "id": "bff76256-0f7c-4e63-8172-986eabc1e9d5",
   "metadata": {},
   "outputs": [
    {
     "name": "stdout",
     "output_type": "stream",
     "text": [
      "Product\n",
      "Men's Apparel                9009008508258759009259009008758759005505005005...\n",
      "Women's Athletic Footwear    8508258008258509009009259009009007006256006257...\n",
      "Men's Street Footwear        1,2001,2501,2201,2001,2201,2501,2751,2501,2001...\n",
      "Women's Street Footwear      1,00095095090090092595095092592095070067570072...\n",
      "Men's Athletic Footwear      1,0009009259009251,0001,0251,0251,0009751,0009...\n",
      "Name: Units Sold, dtype: object\n"
     ]
    }
   ],
   "source": [
    "top_products = df.groupby(\"Product\")[\"Units Sold\"].sum().sort_values(ascending=False).head(5)\n",
    "print(top_products)\n"
   ]
  },
  {
   "cell_type": "code",
   "execution_count": null,
   "id": "8078f1cf-8de3-45ee-b943-bcda607f8acb",
   "metadata": {},
   "outputs": [],
   "source": [
    "#Find the most profitable product category."
   ]
  },
  {
   "cell_type": "code",
   "execution_count": 22,
   "id": "62c20fc2-7f32-4b87-82e7-061863f08ae1",
   "metadata": {},
   "outputs": [
    {
     "name": "stdout",
     "output_type": "stream",
     "text": [
      "Most Profitable Product: Men's Street Footwear\n"
     ]
    }
   ],
   "source": [
    "most_profitable = df.groupby(\"Product\")[\"Operating Profit\"].sum().idxmax()\n",
    "print(\"Most Profitable Product:\", most_profitable)\n"
   ]
  },
  {
   "cell_type": "code",
   "execution_count": 26,
   "id": "ce904c6c-49f6-4c17-b784-b45151cc73a0",
   "metadata": {},
   "outputs": [],
   "source": [
    "#the total sales in each region using a simple bar chart."
   ]
  },
  {
   "cell_type": "code",
   "execution_count": 31,
   "id": "e2da7006-2f26-4798-85ef-98b29af8cb50",
   "metadata": {},
   "outputs": [
    {
     "name": "stdout",
     "output_type": "stream",
     "text": [
      "      Region  Total Sales\n",
      "0    Midwest          0.0\n",
      "1  Northeast          0.0\n",
      "2      South          0.0\n",
      "3  Southeast          0.0\n",
      "4       West          0.0\n"
     ]
    }
   ],
   "source": [
    "import pandas as pd\n",
    "import matplotlib.pyplot as plt\n",
    "import seaborn as sns\n",
    "\n",
    "# Sample DataFrame (Replace this with your actual df)\n",
    "# df = pd.read_csv(\"your_file.csv\")  # If loading from a file\n",
    "\n",
    "# Ensure \"Total Sales\" is numeric\n",
    "df[\"Total Sales\"] = pd.to_numeric(df[\"Total Sales\"], errors=\"coerce\")\n",
    "\n",
    "# Group by Region and sum Total Sales\n",
    "region_sales = df.groupby(\"Region\")[\"Total Sales\"].sum().reset_index()\n",
    "\n",
    "# Print to check\n",
    "print(region_sales)\n"
   ]
  },
  {
   "cell_type": "code",
   "execution_count": 32,
   "id": "32882e0a-0b9f-4320-ae4d-05173b2ba0d3",
   "metadata": {},
   "outputs": [
    {
     "data": {
      "image/png": "[encoded data removed]",
      "text/plain": [
       "<Figure size 800x500 with 1 Axes>"
      ]
     },
     "metadata": {},
     "output_type": "display_data"
    }
   ],
   "source": [
    "# Plot the bar chart\n",
    "plt.figure(figsize=(8, 5))\n",
    "sns.barplot(x=region_sales[\"Region\"], y=region_sales[\"Total Sales\"], palette=\"viridis\")\n",
    "\n",
    "# Add labels\n",
    "plt.xticks(rotation=45)\n",
    "plt.title(\"Total Sales by Region\")\n",
    "plt.xlabel(\"Region\")\n",
    "plt.ylabel(\"Total Sales\")\n",
    "\n",
    "# Show plot\n",
    "plt.show()\n"
   ]
  },
  {
   "cell_type": "code",
   "execution_count": null,
   "id": "2461f6f6-5061-49e4-9c15-ecb68da2a7d4",
   "metadata": {},
   "outputs": [],
   "source": []
  },
  {
   "cell_type": "code",
   "execution_count": null,
   "id": "a84130b2-235e-4085-990b-bcfd62c89b72",
   "metadata": {},
   "outputs": [],
   "source": []
  },
  {
   "cell_type": "code",
   "execution_count": null,
   "id": "54b9024c-f358-4e3c-9ba7-36104269efd5",
   "metadata": {},
   "outputs": [],
   "source": []
  },
  {
   "cell_type": "code",
   "execution_count": null,
   "id": "c367200c-00b8-4207-bd0c-63d2c35c5f31",
   "metadata": {},
   "outputs": [],
   "source": []
  },
  {
   "cell_type": "code",
   "execution_count": null,
   "id": "bc261640-eb17-41a0-9665-b5059280ecc2",
   "metadata": {},
   "outputs": [],
   "source": []
  },
  {
   "cell_type": "code",
   "execution_count": null,
   "id": "ee857e3f-d3dd-4d3a-992a-1d4eaffdcc61",
   "metadata": {},
   "outputs": [],
   "source": []
  },
  {
   "cell_type": "code",
   "execution_count": null,
   "id": "c9813186-f6d8-4d2f-a58d-1c9bed10e1c7",
   "metadata": {},
   "outputs": [],
   "source": []
  },
  {
   "cell_type": "code",
   "execution_count": null,
   "id": "3b8153ff-180f-458b-b2dd-bcdfcbbdeeb8",
   "metadata": {},
   "outputs": [],
   "source": []
  },
  {
   "cell_type": "code",
   "execution_count": null,
   "id": "d92521ce-1892-4927-b76d-19fb530441af",
   "metadata": {},
   "outputs": [],
   "source": []
  },
  {
   "cell_type": "code",
   "execution_count": null,
   "id": "431697ff-451e-4f27-b91d-749a76a20737",
   "metadata": {},
   "outputs": [],
   "source": []
  },
  {
   "cell_type": "code",
   "execution_count": null,
   "id": "cf0fdb25-779d-48c4-82be-beb09b5abb76",
   "metadata": {},
   "outputs": [],
   "source": []
  },
  {
   "cell_type": "code",
   "execution_count": null,
   "id": "47042765-89a0-4c99-b91b-e373dcba6d09",
   "metadata": {},
   "outputs": [],
   "source": []
  },
  {
   "cell_type": "code",
   "execution_count": null,
   "id": "7a567fd7-551a-45f8-bd0d-30a5a87dbed0",
   "metadata": {},
   "outputs": [],
   "source": []
  },
  {
   "cell_type": "code",
   "execution_count": null,
   "id": "62e90609-990c-4f35-95af-3b980b650c4a",
   "metadata": {},
   "outputs": [],
   "source": []
  },
  {
   "cell_type": "code",
   "execution_count": null,
   "id": "5a489d76-3347-467c-ba76-375d334da42c",
   "metadata": {},
   "outputs": [],
   "source": []
  }
 ],
 "metadata": {
  "kernelspec": {
   "display_name": "Python 3 (ipykernel)",
   "language": "python",
   "name": "python3"
  },
  "language_info": {
   "codemirror_mode": {
    "name": "ipython",
    "version": 3
   },
   "file_extension": ".py",
   "mimetype": "text/x-python",
   "name": "python",
   "nbconvert_exporter": "python",
   "pygments_lexer": "ipython3",
   "version": "3.11.7"
  },
  "widgets": {
   "application/vnd.jupyter.widget-state+json": {
    "state": {},
    "version_major": 2,
    "version_minor": 0
   }
  }
 },
 "nbformat": 4,
 "nbformat_minor": 5
}
